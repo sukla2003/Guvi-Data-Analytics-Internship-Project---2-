{
  "nbformat": 4,
  "nbformat_minor": 0,
  "metadata": {
    "colab": {
      "private_outputs": true,
      "provenance": []
    },
    "kernelspec": {
      "name": "python3",
      "display_name": "Python 3"
    },
    "language_info": {
      "name": "python"
    }
  },
  "cells": [
    {
      "cell_type": "markdown",
      "source": [
        "#**Budget Planning App for Students (Python + CSV)**"
      ],
      "metadata": {
        "id": "NwMLBPHuHUFj"
      }
    },
    {
      "cell_type": "code",
      "execution_count": null,
      "metadata": {
        "id": "xmUv1x5A66cK"
      },
      "outputs": [],
      "source": [
        "#Installing required libraries\n",
        "!pip -q install pandas plotly ipywidgets"
      ]
    },
    {
      "cell_type": "code",
      "source": [
        "#Importing libraries, folders and setting up paths\n",
        "\n",
        "import os, csv, math\n",
        "from datetime import datetime, date\n",
        "import pandas as pd\n",
        "import numpy as np\n",
        "import plotly.graph_objects as go\n",
        "from plotly.subplots import make_subplots\n",
        "import plotly.express as px\n",
        "import ipywidgets as widgets\n",
        "from IPython.display import display, clear_output\n",
        "\n",
        "# Base paths\n",
        "BASE_DIR = \"/content/budget_app\"\n",
        "DATA_DIR = os.path.join(BASE_DIR, \"data\")\n",
        "REPORTS_DIR = os.path.join(BASE_DIR, \"reports\")\n",
        "CSV_PATH = os.path.join(DATA_DIR, \"budget_transactions.csv\")\n",
        "\n",
        "COLUMNS = [\"Date\", \"Category\", \"Type\", \"Amount\"]  # Type: Income or Expense\n",
        "\n",
        "os.makedirs(DATA_DIR, exist_ok=True)\n",
        "os.makedirs(REPORTS_DIR, exist_ok=True)\n",
        "\n",
        "# Create CSV with header\n",
        "if not os.path.exists(CSV_PATH) or os.path.getsize(CSV_PATH) == 0:\n",
        "    with open(CSV_PATH, \"w\", newline=\"\", encoding=\"utf-8\") as f:\n",
        "        csv.writer(f).writerow(COLUMNS)\n",
        "\n",
        "print(\"Base dir:\", BASE_DIR)\n",
        "print(\"CSV path:\", CSV_PATH)\n",
        "print(\"Reports dir:\", REPORTS_DIR)"
      ],
      "metadata": {
        "id": "uWuHKPdbHtl9"
      },
      "execution_count": null,
      "outputs": []
    },
    {
      "cell_type": "code",
      "source": [
        "#Helper functions\n",
        "\n",
        "def parse_date_input(raw: str) -> date:\n",
        "    raw = (raw or \"\").strip()\n",
        "    if raw == \"\":\n",
        "        return date.today()\n",
        "    fmts = [\"%Y-%m-%d\", \"%d-%m-%Y\", \"%d/%m/%Y\", \"%Y/%m/%d\", \"%d-%b-%Y\", \"%b %d %Y\"]\n",
        "    for fmt in fmts:\n",
        "        try:\n",
        "            return datetime.strptime(raw, fmt).date()\n",
        "        except Exception:\n",
        "            pass\n",
        "    raise ValueError(\"Could not parse date. Use YYYY-MM-DD (e.g. 2025-08-16).\")\n",
        "\n",
        "def parse_month_input(raw: str, df: pd.DataFrame = None) -> str:\n",
        "    \"\"\"\n",
        "    Return month string 'YYYY-MM'.\n",
        "    If raw blank & df provided -> return latest month from df (preferred).\n",
        "    If raw blank & df empty -> current month.\n",
        "    \"\"\"\n",
        "    raw = (raw or \"\").strip()\n",
        "    if raw == \"\" and df is not None and not df.empty:\n",
        "        months = sorted(df[\"Month\"].unique())\n",
        "        if months:\n",
        "            return months[-1]\n",
        "    if raw == \"\":\n",
        "        t = date.today()\n",
        "        return f\"{t.year}-{t.month:02d}\"\n",
        "    if \"-\" in raw:\n",
        "        a,b = raw.split(\"-\")\n",
        "        if len(a) == 4:\n",
        "            y, m = int(a), int(b)\n",
        "        else:\n",
        "            m, y = int(a), int(b)\n",
        "    else:\n",
        "        if len(raw) == 6:\n",
        "            y, m = int(raw[:4]), int(raw[4:])\n",
        "        else:\n",
        "            raise ValueError(\"Use YYYY-MM (e.g. 2025-08)\")\n",
        "    datetime(y, m, 1)  # validate\n",
        "    return f\"{y}-{m:02d}\"\n",
        "\n",
        "def load_df() -> pd.DataFrame:\n",
        "    if not os.path.exists(CSV_PATH):\n",
        "        return pd.DataFrame(columns=COLUMNS)\n",
        "    df = pd.read_csv(CSV_PATH)\n",
        "    if df.empty:\n",
        "        return pd.DataFrame(columns=COLUMNS)\n",
        "    df[\"Date\"] = pd.to_datetime(df[\"Date\"], errors=\"coerce\")\n",
        "    df = df.dropna(subset=[\"Date\"])  # drop rows with invalid dates\n",
        "    df[\"Category\"] = df[\"Category\"].astype(str).str.strip().replace({\"\": \"Uncategorized\"})\n",
        "    df[\"Type\"] = df[\"Type\"].astype(str).str.title().replace({\"Income\":\"Income\",\"Expense\":\"Expense\"})\n",
        "    df[\"Amount\"] = pd.to_numeric(df[\"Amount\"], errors=\"coerce\").fillna(0.0)\n",
        "    df[\"Month\"] = df[\"Date\"].dt.to_period(\"M\").astype(str)  # 'YYYY-MM'\n",
        "    return df\n",
        "\n",
        "def save_transaction(dt: date, category: str, ttype: str, amount: float) -> None:\n",
        "    ttype = ttype.title()\n",
        "    if ttype not in {\"Income\", \"Expense\"}:\n",
        "        raise ValueError(\"Type must be 'Income' or 'Expense'\")\n",
        "    if amount <= 0 or math.isnan(amount):\n",
        "        raise ValueError(\"Amount must be a positive number\")\n",
        "    with open(CSV_PATH, \"a\", newline=\"\", encoding=\"utf-8\") as f:\n",
        "        csv.writer(f).writerow([dt.strftime(\"%Y-%m-%d\"), category.strip() or \"Uncategorized\", ttype, f\"{amount:.2f}\"])"
      ],
      "metadata": {
        "id": "u61v_MQUIR0i"
      },
      "execution_count": null,
      "outputs": []
    },
    {
      "cell_type": "code",
      "source": [
        "#Dashboard\n",
        "\n",
        "def build_dashboard():\n",
        "    df = load_df()\n",
        "    if df.empty:\n",
        "        print(\"No data yet\")\n",
        "        return\n",
        "\n",
        "    # Aggregates\n",
        "    monthly = df.groupby([\"Month\",\"Type\"])[\"Amount\"].sum().reset_index()\n",
        "    pivot = monthly.pivot(index=\"Month\",columns=\"Type\",values=\"Amount\").fillna(0)\n",
        "    pivot[\"Balance\"] = pivot.get(\"Income\",0) - pivot.get(\"Expense\",0)\n",
        "\n",
        "    cat_data = df[df[\"Type\"]==\"Expense\"].groupby([\"Month\",\"Category\"])[\"Amount\"].sum().reset_index()\n",
        "\n",
        "    months = sorted(df[\"Month\"].unique())\n",
        "    default_month = months[-1]\n",
        "\n",
        "    # --- Base subplot layout ---\n",
        "    fig = make_subplots(\n",
        "        rows=2, cols=2,\n",
        "        specs=[[{\"type\":\"xy\"},{\"type\":\"domain\"}],\n",
        "               [{\"type\":\"xy\"},{\"type\":\"indicator\"}]],\n",
        "        subplot_titles=(\"Income vs Expense\",\"Expenses by Category\",\"Balance Trend\",\"Savings %\")\n",
        "    )\n",
        "\n",
        "    # Bar: Income vs Expense\n",
        "    fig.add_trace(go.Bar(x=pivot.index,y=pivot[\"Income\"],name=\"Income\"),row=1,col=1)\n",
        "    fig.add_trace(go.Bar(x=pivot.index,y=pivot[\"Expense\"],name=\"Expense\"),row=1,col=1)\n",
        "\n",
        "    # Pie: default month\n",
        "    default_cat = cat_data[cat_data[\"Month\"]==default_month]\n",
        "    fig.add_trace(go.Pie(labels=default_cat[\"Category\"],values=default_cat[\"Amount\"],name=\"Pie\"),row=1,col=2)\n",
        "\n",
        "    # Line: Balance trend\n",
        "    fig.add_trace(go.Scatter(x=pivot.index,y=pivot[\"Balance\"],mode=\"lines+markers\",name=\"Balance\"),row=2,col=1)\n",
        "\n",
        "    # Gauge: Savings %\n",
        "    inc = df[(df[\"Month\"]==default_month)&(df[\"Type\"]==\"Income\")][\"Amount\"].sum()\n",
        "    exp = df[(df[\"Month\"]==default_month)&(df[\"Type\"]==\"Expense\")][\"Amount\"].sum()\n",
        "    ratio = (max(inc-exp,0)/inc*100) if inc>0 else 0\n",
        "    fig.add_trace(go.Indicator(mode=\"gauge+number\",value=ratio,\n",
        "                               gauge={'axis':{'range':[0,100]}},\n",
        "                               title={'text':f\"Savings % ({default_month})\"}),row=2,col=2)\n",
        "\n",
        "    # --- Month dropdown only ---\n",
        "    month_buttons = []\n",
        "    for m in months:\n",
        "        inc = df[(df[\"Month\"]==m)&(df[\"Type\"]==\"Income\")][\"Amount\"].sum()\n",
        "        exp = df[(df[\"Month\"]==m)&(df[\"Type\"]==\"Expense\")][\"Amount\"].sum()\n",
        "        ratio = (max(inc-exp,0)/inc*100) if inc>0 else 0\n",
        "        cat = cat_data[cat_data[\"Month\"]==m]\n",
        "\n",
        "        month_buttons.append(dict(\n",
        "            label=m,\n",
        "            method=\"update\",\n",
        "            args=[{\"labels\":[cat[\"Category\"]],\"values\":[cat[\"Amount\"]],\"value\":[ratio]}, # updates pie+gauge\n",
        "                  {\"title\":f\"Budget Dashboard — {m}\"}]\n",
        "        ))\n",
        "\n",
        "    fig.update_layout(\n",
        "        template=\"plotly_dark\",\n",
        "        barmode=\"group\",\n",
        "        height=800,width=1100,\n",
        "        updatemenus=[\n",
        "            dict(buttons=month_buttons, direction=\"down\", showactive=True, x=0.1, y=1.2,\n",
        "                 xanchor=\"left\",yanchor=\"top\")\n",
        "        ],\n",
        "        annotations=[dict(text=\"Select Month:\",x=0,y=1.25,xref=\"paper\",yref=\"paper\",showarrow=False)]\n",
        "    )\n",
        "\n",
        "    fig.show()\n",
        "\n",
        "# Show fixed dashboard\n",
        "build_dashboard()"
      ],
      "metadata": {
        "id": "VO9okX9FGaPs"
      },
      "execution_count": null,
      "outputs": []
    },
    {
      "cell_type": "code",
      "source": [
        "#Feeding sample data to see the working\n",
        "\n",
        "demo = [\n",
        "    (\"2025-02-01\",\"Salary\",\"Income\",20000),\n",
        "    (\"2025-02-02\",\"Food\",\"Expense\",600),\n",
        "    (\"2025-02-05\",\"Transport\",\"Expense\",250),\n",
        "    (\"2025-02-12\",\"Shopping\",\"Expense\",1200),\n",
        "    (\"2025-03-01\",\"Salary\",\"Income\",20000),\n",
        "    (\"2025-03-03\",\"Food\",\"Expense\",700),\n",
        "    (\"2025-03-10\",\"Rent\",\"Expense\",5000),\n",
        "    (\"2025-03-18\",\"Freelance\",\"Income\",4000),\n",
        "    (\"2025-03-21\",\"Travel\",\"Expense\",800),\n",
        "]\n",
        "for d,c,t,a in demo:\n",
        "    save_transaction(parse_date_input(d), c, t, a)\n",
        "print(\"Demo data added.\")\n",
        "\n"
      ],
      "metadata": {
        "id": "dzDsmDeBIcVo"
      },
      "execution_count": null,
      "outputs": []
    },
    {
      "cell_type": "code",
      "source": [
        "#Showing transations\n",
        "\n",
        "def show_recent(n=10):\n",
        "    df = load_df()\n",
        "    if df.empty:\n",
        "        print(\"No transactions yet.\")\n",
        "        return\n",
        "    disp = df.sort_values(\"Date\").tail(n).copy()\n",
        "    disp[\"Date\"] = disp[\"Date\"].dt.strftime(\"%Y-%m-%d\")\n",
        "    display(disp.reset_index(drop=True))\n",
        "\n",
        "# Example: show_recent(15)\n",
        "show_recent(10)"
      ],
      "metadata": {
        "id": "7vqntRbtJbpF"
      },
      "execution_count": null,
      "outputs": []
    },
    {
      "cell_type": "markdown",
      "source": [
        "$$......................Thank You......................$$"
      ],
      "metadata": {
        "id": "YvpY44g4A7je"
      }
    }
  ]
}